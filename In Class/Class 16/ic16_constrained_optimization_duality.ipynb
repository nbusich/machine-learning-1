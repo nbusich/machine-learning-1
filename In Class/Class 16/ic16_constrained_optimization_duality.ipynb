{
 "cells": [
  {
   "cell_type": "code",
   "id": "initial_id",
   "metadata": {
    "collapsed": true,
    "ExecuteTime": {
     "end_time": "2025-03-14T14:04:17.624494Z",
     "start_time": "2025-03-14T14:04:17.293903Z"
    }
   },
   "source": [
    "import numpy as np\n",
    "from scipy.optimize import minimize\n",
    "\n",
    "def objective(x):\n",
    "    return -1*x[0]*x[1]\n",
    "\n",
    "cons = [\n",
    "    {'type': 'eq', 'fun': lambda x: 2*x[0] + 2*x[1] - 20}\n",
    "]\n",
    "\n",
    "x0 = [0.5, 0.5]\n",
    "\n",
    "solution = minimize(objective, x0, method='SLSQP', constraints=cons)\n",
    "print(solution)"
   ],
   "outputs": [
    {
     "name": "stdout",
     "output_type": "stream",
     "text": [
      " message: Optimization terminated successfully\n",
      " success: True\n",
      "  status: 0\n",
      "     fun: -24.99999999999998\n",
      "       x: [ 5.000e+00  5.000e+00]\n",
      "     nit: 2\n",
      "     jac: [-5.000e+00 -5.000e+00]\n",
      "    nfev: 6\n",
      "    njev: 2\n"
     ]
    }
   ],
   "execution_count": 1
  },
  {
   "metadata": {
    "ExecuteTime": {
     "end_time": "2025-03-14T14:18:05.269917Z",
     "start_time": "2025-03-14T14:18:05.263130Z"
    }
   },
   "cell_type": "code",
   "source": [
    "import numpy as np\n",
    "from scipy.optimize import minimize\n",
    "\n",
    "\n",
    "def objective(x):\n",
    "    return - x[0] * x[1]\n",
    "\n",
    "\n",
    "cons = [\n",
    "    {'type': 'eq', 'fun': lambda x: 2 * x[0] + 2 * x[1] - 20}\n",
    "]\n",
    "\n",
    "x0 = [0.5, 1]\n",
    "\n",
    "solution = minimize(objective, x0, method='SLSQP', constraints=cons)\n",
    "print(solution)"
   ],
   "id": "2c47a92ad7979c41",
   "outputs": [
    {
     "name": "stdout",
     "output_type": "stream",
     "text": [
      " message: Optimization terminated successfully\n",
      " success: True\n",
      "  status: 0\n",
      "     fun: -24.999999999999996\n",
      "       x: [ 5.000e+00  5.000e+00]\n",
      "     nit: 2\n",
      "     jac: [-5.000e+00 -5.000e+00]\n",
      "    nfev: 6\n",
      "    njev: 2\n"
     ]
    }
   ],
   "execution_count": 3
  },
  {
   "metadata": {
    "ExecuteTime": {
     "end_time": "2025-03-14T14:49:29.425386Z",
     "start_time": "2025-03-14T14:49:29.408696Z"
    }
   },
   "cell_type": "code",
   "source": [
    "from scipy.optimize import minimize\n",
    "\n",
    "\n",
    "def objective(x):\n",
    "    return np.sqrt((4-x[0])**2 + (6-x[1])**2)\n",
    "\n",
    "\n",
    "cons = [\n",
    "    {'type': 'eq', 'fun': lambda x: x[0]**2 + x[1]**2 - (3.18**2)}\n",
    "]\n",
    "\n",
    "x0 = [0.5, 0.5]\n",
    "\n",
    "solution = minimize(objective, x0, method='SLSQP', constraints=cons)\n",
    "print(solution)"
   ],
   "id": "fa5d59a5cd992cfa",
   "outputs": [
    {
     "name": "stdout",
     "output_type": "stream",
     "text": [
      " message: Optimization terminated successfully\n",
      " success: True\n",
      "  status: 0\n",
      "     fun: 4.031102550926701\n",
      "       x: [ 1.764e+00  2.646e+00]\n",
      "     nit: 8\n",
      "     jac: [-5.547e-01 -8.321e-01]\n",
      "    nfev: 25\n",
      "    njev: 8\n"
     ]
    }
   ],
   "execution_count": 7
  },
  {
   "metadata": {
    "ExecuteTime": {
     "end_time": "2025-03-14T14:54:33.888557Z",
     "start_time": "2025-03-14T14:54:33.870693Z"
    }
   },
   "cell_type": "code",
   "source": [
    "from scipy.optimize import minimize\n",
    "\n",
    "\n",
    "def objective(x):\n",
    "    return np.sqrt((1.76-x[0])**2 + (2.64-x[1])**2) + np.sqrt((2.25-x[0])**2 + (-2.25-x[1])**2)\n",
    "\n",
    "\n",
    "cons = [\n",
    "    {'type': 'eq', 'fun': lambda x: np.sqrt(x[0]**2 + x[1]**2)-1}\n",
    "]\n",
    "\n",
    "x0 = [0.5, 0.5]\n",
    "\n",
    "solution = minimize(objective, x0, method='SLSQP', constraints=cons)\n",
    "print(solution)"
   ],
   "id": "dcee5bb4d398f6b2",
   "outputs": [
    {
     "name": "stdout",
     "output_type": "stream",
     "text": [
      " message: Optimization terminated successfully\n",
      " success: True\n",
      "  status: 0\n",
      "     fun: 5.316828580190515\n",
      "       x: [ 9.951e-01  9.897e-02]\n",
      "     nit: 6\n",
      "     jac: [-7.595e-01 -7.553e-02]\n",
      "    nfev: 18\n",
      "    njev: 6\n"
     ]
    }
   ],
   "execution_count": 8
  }
 ],
 "metadata": {
  "kernelspec": {
   "display_name": "Python 3",
   "language": "python",
   "name": "python3"
  },
  "language_info": {
   "codemirror_mode": {
    "name": "ipython",
    "version": 2
   },
   "file_extension": ".py",
   "mimetype": "text/x-python",
   "name": "python",
   "nbconvert_exporter": "python",
   "pygments_lexer": "ipython2",
   "version": "2.7.6"
  }
 },
 "nbformat": 4,
 "nbformat_minor": 5
}
