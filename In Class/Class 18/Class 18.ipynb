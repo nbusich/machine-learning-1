{
 "cells": [
  {
   "cell_type": "code",
   "id": "initial_id",
   "metadata": {
    "collapsed": true,
    "ExecuteTime": {
     "end_time": "2025-03-21T15:11:58.502866Z",
     "start_time": "2025-03-21T15:11:57.865010Z"
    }
   },
   "source": [
    "import numpy as np\n",
    "import pandas as pd\n",
    "from sklearn.preprocessing import LabelEncoder"
   ],
   "outputs": [],
   "execution_count": 21
  },
  {
   "metadata": {
    "ExecuteTime": {
     "end_time": "2025-03-21T15:11:58.723366Z",
     "start_time": "2025-03-21T15:11:58.713822Z"
    }
   },
   "cell_type": "code",
   "source": [
    "df = pd.read_csv('golf.csv')\n",
    "print(df)\n",
    "\n",
    "# Create a copy to avoid changing the original\n",
    "df_encoded = df.copy()\n",
    "\n",
    "# Initialize LabelEncoder\n",
    "le = LabelEncoder()\n",
    "\n",
    "# Apply LabelEncoder to each column\n",
    "for column in df_encoded.columns:\n",
    "    df_encoded[column] = le.fit_transform(df_encoded[column])\n",
    "    \n",
    "# Convert to NumPy array\n",
    "data_array = df_encoded.to_numpy()\n",
    "\n",
    "# Print result\n",
    "print(data_array)\n"
   ],
   "id": "6d953bc3078987a3",
   "outputs": [
    {
     "name": "stdout",
     "output_type": "stream",
     "text": [
      "     Outlook  Temp     Hum  Windy Golf\n",
      "0      Rainy   Hot    High  False   No\n",
      "1      Rainy   Hot    High   True   No\n",
      "2   Overcast   Hot    High  False  Yes\n",
      "3      Sunny  Mild    High  False  Yes\n",
      "4      Sunny  Cool  Normal  False  Yes\n",
      "5      Sunny  Cool  Normal   True   No\n",
      "6   Overcast  Cool  Normal   True  Yes\n",
      "7      Rainy  Mild    High  False   No\n",
      "8      Rainy  Cool  Normal  False  Yes\n",
      "9      Sunny  Mild  Normal  False  Yes\n",
      "10     Rainy  Mild  Normal   True  Yes\n",
      "11  Overcast  Mild    High   True  Yes\n",
      "12  Overcast   Hot  Normal  False  Yes\n",
      "13     Sunny  Mild    High   True   No\n",
      "[[1 1 0 0 0]\n",
      " [1 1 0 1 0]\n",
      " [0 1 0 0 1]\n",
      " [2 2 0 0 1]\n",
      " [2 0 1 0 1]\n",
      " [2 0 1 1 0]\n",
      " [0 0 1 1 1]\n",
      " [1 2 0 0 0]\n",
      " [1 0 1 0 1]\n",
      " [2 2 1 0 1]\n",
      " [1 2 1 1 1]\n",
      " [0 2 0 1 1]\n",
      " [0 1 1 0 1]\n",
      " [2 2 0 1 0]]\n"
     ]
    }
   ],
   "execution_count": 22
  },
  {
   "metadata": {
    "ExecuteTime": {
     "end_time": "2025-03-21T15:21:25.197758Z",
     "start_time": "2025-03-21T15:21:25.174164Z"
    }
   },
   "cell_type": "code",
   "source": [
    "def H(y):\n",
    "    entropy = 0\n",
    "    for i in range(len(np.unique(y))):\n",
    "        py_i = np.where(y==i, 1, 0)\n",
    "        py = np.sum(py_i)/len(y)\n",
    "        py = py*np.log(py)\n",
    "        entropy += py\n",
    "    entropy = -entropy\n",
    "    return entropy\n",
    "def cross_entropy(y,x):\n",
    "    cross_entropy = 0\n",
    "    \n",
    "print(H(data_array[:,0]))\n",
    "print(H(data_array[:,1]))\n",
    "print(H(data_array[:,2]))\n",
    "print(H(data_array[:,3]))\n",
    "print(H(data_array[:,4]))"
   ],
   "id": "1426572fddb01427",
   "outputs": [
    {
     "name": "stdout",
     "output_type": "stream",
     "text": [
      "(14, 5)\n",
      "1.0933747175566468\n",
      "1.0789922078775833\n",
      "0.6931471805599453\n",
      "0.6829081047004717\n",
      "0.6517565611726531\n"
     ]
    }
   ],
   "execution_count": 25
  }
 ],
 "metadata": {
  "kernelspec": {
   "display_name": "Python 3",
   "language": "python",
   "name": "python3"
  },
  "language_info": {
   "codemirror_mode": {
    "name": "ipython",
    "version": 2
   },
   "file_extension": ".py",
   "mimetype": "text/x-python",
   "name": "python",
   "nbconvert_exporter": "python",
   "pygments_lexer": "ipython2",
   "version": "2.7.6"
  }
 },
 "nbformat": 4,
 "nbformat_minor": 5
}
