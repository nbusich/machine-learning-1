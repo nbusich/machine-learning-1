{
 "cells": [
  {
   "cell_type": "code",
   "id": "initial_id",
   "metadata": {
    "collapsed": true,
    "ExecuteTime": {
     "end_time": "2025-02-25T16:21:31.694376Z",
     "start_time": "2025-02-25T16:21:31.575951Z"
    }
   },
   "source": [
    "import numpy as np\n",
    "\n",
    "X = np.array([[0,1],[1,0],[3,2],[3,3]])\n",
    "Y = np.array([[0],[0],[1],[1]])\n",
    "print(X)\n",
    "print(Y)"
   ],
   "outputs": [
    {
     "name": "stdout",
     "output_type": "stream",
     "text": [
      "[[0 1]\n",
      " [1 0]\n",
      " [3 2]\n",
      " [3 3]]\n",
      "[[0]\n",
      " [0]\n",
      " [1]\n",
      " [1]]\n"
     ]
    }
   ],
   "execution_count": 2
  },
  {
   "metadata": {
    "ExecuteTime": {
     "end_time": "2025-02-25T16:22:53.762573Z",
     "start_time": "2025-02-25T16:22:53.752913Z"
    }
   },
   "cell_type": "code",
   "source": [
    "def gd(x, y, step_size, iterations):\n",
    "    print(\"x\", x.shape)\n",
    "    print(\"y\", y.shape)\n",
    "    u = step_size\n",
    "\n",
    "    # Initializing weights\n",
    "    w = np.random.randn(x.shape[1], 1)\n",
    "    print('w', w.shape)\n",
    "\n",
    "    # Gradient Descent\n",
    "    for i in range(iterations):\n",
    "\n",
    "        # Calculating gradient\n",
    "        grad = 1/4 * x.T @ ((1 / (1 + np.exp(-x@w))) - y)\n",
    "\n",
    "        # Updating weights based on gradient\n",
    "        w = w - u * (grad)\n",
    "\n",
    "    print(\"\\nGradient:\\n\\t \", grad)\n",
    "    print(\"\\nOptimal Weights:\\n\\t \", w)\n",
    "\n",
    "    return w"
   ],
   "id": "8726dd52dfab19ac",
   "outputs": [],
   "execution_count": 7
  },
  {
   "metadata": {
    "ExecuteTime": {
     "end_time": "2025-02-25T16:23:29.987085Z",
     "start_time": "2025-02-25T16:23:29.966040Z"
    }
   },
   "cell_type": "code",
   "source": "gd(X,Y, 0.1, 1000)",
   "id": "27d3e9f3256c0de7",
   "outputs": [
    {
     "name": "stdout",
     "output_type": "stream",
     "text": [
      "x (4, 2)\n",
      "y (4, 1)\n",
      "w (2, 1)\n",
      "\n",
      "\n",
      "Loss:\n",
      "\t  [[ 4.72176420e-05]\n",
      " [-5.58999058e-05]]\n",
      "\n",
      "Gradient of Loss:\n",
      "\t  [[ 4.72176420e-05]\n",
      " [-5.58999058e-05]]\n",
      "\n",
      "Optimal Weights:\n",
      "\t  [[0.60017752]\n",
      " [0.126677  ]]\n"
     ]
    },
    {
     "data": {
      "text/plain": [
       "array([[0.60017752],\n",
       "       [0.126677  ]])"
      ]
     },
     "execution_count": 10,
     "metadata": {},
     "output_type": "execute_result"
    }
   ],
   "execution_count": 10
  }
 ],
 "metadata": {
  "kernelspec": {
   "display_name": "Python 3",
   "language": "python",
   "name": "python3"
  },
  "language_info": {
   "codemirror_mode": {
    "name": "ipython",
    "version": 2
   },
   "file_extension": ".py",
   "mimetype": "text/x-python",
   "name": "python",
   "nbconvert_exporter": "python",
   "pygments_lexer": "ipython2",
   "version": "2.7.6"
  }
 },
 "nbformat": 4,
 "nbformat_minor": 5
}
