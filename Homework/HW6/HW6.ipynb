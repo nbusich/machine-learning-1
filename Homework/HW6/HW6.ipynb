{
 "cells": [
  {
   "cell_type": "code",
   "id": "initial_id",
   "metadata": {
    "collapsed": true,
    "ExecuteTime": {
     "end_time": "2025-03-31T02:14:13.576983Z",
     "start_time": "2025-03-31T02:14:12.196868Z"
    }
   },
   "source": [
    "import numpy as np\n",
    "import sklearn.preprocessing as pre\n",
    "from sklearn.model_selection import train_test_split\n",
    "import matplotlib.pyplot as plt\n",
    "from sklearn.metrics import accuracy_score\n",
    "from sklearn.linear_model import LogisticRegression\n",
    "from scipy.integrate import quad\n",
    "from scipy.stats import gaussian_kde"
   ],
   "outputs": [],
   "execution_count": 3
  },
  {
   "metadata": {
    "ExecuteTime": {
     "end_time": "2025-03-31T00:39:18.769761Z",
     "start_time": "2025-03-31T00:39:18.754830Z"
    }
   },
   "cell_type": "code",
   "source": [
    "# Problem 2\n",
    "X = np.genfromtxt('job_right_out_of_college_X.csv', delimiter=',')\n",
    "y = np.genfromtxt('job_right_out_of_college_y.csv', delimiter=',')\n",
    "y = y.reshape([-1,1])\n",
    "\n",
    "print(X.shape)\n",
    "print(y.shape)"
   ],
   "id": "a5a599b4ec569506",
   "outputs": [
    {
     "name": "stdout",
     "output_type": "stream",
     "text": [
      "(1000, 7)\n",
      "(1000, 1)\n"
     ]
    }
   ],
   "execution_count": 139
  },
  {
   "metadata": {
    "ExecuteTime": {
     "end_time": "2025-03-31T00:39:18.804567Z",
     "start_time": "2025-03-31T00:39:18.780801Z"
    }
   },
   "cell_type": "code",
   "source": [
    "def preprocess(x,y):\n",
    "    # 1: Scale and Center the data\n",
    "    scaler = pre.MinMaxScaler(feature_range=(0, 1))\n",
    "    x = scaler.fit_transform(x)\n",
    "    print(\"x-std: \", x.std())\n",
    "    print(\"x-mean: \", x.mean())\n",
    "    \n",
    "    x_train, x_temp, y_train, y_temp = train_test_split(x, y, test_size=0.2, random_state=22)\n",
    "    # 3: Split remaining into val (10%) and test (10%)\n",
    "    x_val, x_test, y_val, y_test = train_test_split(x_temp, y_temp, test_size=0.5, random_state=22)\n",
    "    y_test = y_test.reshape(-1, 1)\n",
    "    y_val = y_val.reshape(-1, 1)\n",
    "    y_train = y_train.reshape(-1, 1)\n",
    "\n",
    "    print(\"\\nX-train shape: \", x_train.shape)\n",
    "    print(\"Y-train shape: \", y_train.shape)\n",
    "\n",
    "    print(\"\\nX-val shape: \", x_val.shape)\n",
    "    print(\"Y-val shape: \", y_val.shape)\n",
    "\n",
    "    print(\"\\nX-test shape: \", x_test.shape)\n",
    "    print(\"Y-test shape: \", y_test.shape)\n",
    "    return x_train, y_train, x_val, y_val, x_test, y_test\n",
    "x_train, y_train, x_val, y_val, x_test, y_test = preprocess(X,y)"
   ],
   "id": "aaa55e24aac2dbfc",
   "outputs": [
    {
     "name": "stdout",
     "output_type": "stream",
     "text": [
      "x-std:  0.33045174584880094\n",
      "x-mean:  0.5031911439963794\n",
      "\n",
      "X-train shape:  (800, 7)\n",
      "Y-train shape:  (800, 1)\n",
      "\n",
      "X-val shape:  (100, 7)\n",
      "Y-val shape:  (100, 1)\n",
      "\n",
      "X-test shape:  (100, 7)\n",
      "Y-test shape:  (100, 1)\n"
     ]
    }
   ],
   "execution_count": 140
  },
  {
   "metadata": {
    "ExecuteTime": {
     "end_time": "2025-03-31T00:39:25.221868Z",
     "start_time": "2025-03-31T00:39:18.815216Z"
    }
   },
   "cell_type": "code",
   "source": [
    "# Logistic Regression\n",
    "def l1_logistic_regression(x, y, u, iter, l):\n",
    "    w = np.random.randn(x.shape[1]+1,1)\n",
    "    def gradient(phi, x, y, w, l):\n",
    "        return ((phi.T @ (sigmoid(phi @ w) - y)) / x.shape[0]) + l*np.sign(w)\n",
    "    phi = np.hstack((x, np.ones((x.shape[0], 1))))\n",
    "    for i in range(iter):\n",
    "        grad = gradient(phi, x, y, w, l)\n",
    "        w = w - u * grad\n",
    "    return w\n",
    "\n",
    "def sigmoid(x):\n",
    "    return 1 / (1 + np.exp(-x))\n",
    "\n",
    "def test_logistic_regression(x_train, y_train, x_test, y_test, l):\n",
    "    \n",
    "    log_weights = l1_logistic_regression(x_train, y_train, 0.001, 200000, l)\n",
    "    phi = np.hstack((x_test, np.ones((x_test.shape[0], 1))))\n",
    "    def q(x=None, X=None, w=None):\n",
    "        if X is None:\n",
    "            return 1/(1 + np.exp(-x.T.dot(w)))\n",
    "        else:\n",
    "            return 1/(1 + np.exp(-X.dot(w)))\n",
    "    pred = []\n",
    "    for x in phi:\n",
    "        pred.append(np.round(q(x, None, log_weights))[0])\n",
    "    lbls = np.array(pred)\n",
    "    correct = 0\n",
    "    for i in range(x_test.shape[0]):\n",
    "        if lbls[i] == y_test[i]:\n",
    "            correct += 1\n",
    "        else:\n",
    "            pass\n",
    "    return correct/x_test.shape[0]*100, log_weights\n",
    "\n",
    "(log_regression_accuracy, w) = test_logistic_regression(x_train, y_train, x_test, y_test, 0.5)\n",
    "(log_regression_train_accuracy, _) = test_logistic_regression(x_train, y_train, x_train, y_train, 0.5)\n",
    "print(\"Logistic Regression Test accuracy: \", log_regression_accuracy)\n",
    "print(\"Logistic Regression Train accuracy: \", log_regression_train_accuracy)"
   ],
   "id": "a0aa9ee8e949a032",
   "outputs": [
    {
     "name": "stdout",
     "output_type": "stream",
     "text": [
      "Logistic Regression Test accuracy:  79.0\n",
      "Logistic Regression Train accuracy:  30.375000000000004\n"
     ]
    }
   ],
   "execution_count": 141
  },
  {
   "metadata": {
    "ExecuteTime": {
     "end_time": "2025-03-31T00:39:25.257457Z",
     "start_time": "2025-03-31T00:39:25.234791Z"
    }
   },
   "cell_type": "code",
   "source": [
    "Logistic_Regression = LogisticRegression(penalty='l1', solver='liblinear')\n",
    "model = Logistic_Regression.fit(x_train, y_train.ravel())\n",
    "y_pred = model.predict(x_test)\n",
    "accuracy = accuracy_score(y_test, y_pred)\n",
    "print(\"Accuracy:\", accuracy * 100)"
   ],
   "id": "26c0c86dab977554",
   "outputs": [
    {
     "name": "stdout",
     "output_type": "stream",
     "text": [
      "Accuracy: 100.0\n"
     ]
    }
   ],
   "execution_count": 142
  },
  {
   "metadata": {
    "ExecuteTime": {
     "end_time": "2025-03-31T00:39:25.270432Z",
     "start_time": "2025-03-31T00:39:25.268165Z"
    }
   },
   "cell_type": "code",
   "source": [
    "print(\"Weights (coefficients):\", model.coef_)\n",
    "print(\"Bias (intercept):\", model.intercept_)"
   ],
   "id": "eb8beb8a4d239639",
   "outputs": [
    {
     "name": "stdout",
     "output_type": "stream",
     "text": [
      "Weights (coefficients): [[ 0.51038251  5.04972656 -0.33781044  6.97370155 -2.91397623 15.75124745\n",
      "   6.26247582]]\n",
      "Bias (intercept): [-20.09293259]\n"
     ]
    }
   ],
   "execution_count": 143
  },
  {
   "metadata": {
    "ExecuteTime": {
     "end_time": "2025-03-31T00:39:25.288571Z",
     "start_time": "2025-03-31T00:39:25.286460Z"
    }
   },
   "cell_type": "code",
   "source": [
    "print(\"Maximum w value is: \", np.max(w))\n",
    "print(w[:7])"
   ],
   "id": "d032ab9ff3e4d6e5",
   "outputs": [
    {
     "name": "stdout",
     "output_type": "stream",
     "text": [
      "Maximum w value is:  0.00025157520936204157\n",
      "[[-1.49105609e-04]\n",
      " [-1.42282254e-04]\n",
      " [-3.41923810e-04]\n",
      " [-2.90408637e-04]\n",
      " [ 2.51575209e-04]\n",
      " [ 2.23994999e-04]\n",
      " [ 5.33773505e-05]]\n"
     ]
    }
   ],
   "execution_count": 144
  },
  {
   "metadata": {},
   "cell_type": "markdown",
   "source": "The maximum value corresponds to the second to last feature of the dataset, which is economic condition. My result was significantly worse than SKlearn, which got 100% accuracy in a fraction of the time. They both agree that economic condition is the most important weight though.",
   "id": "9cbf2e42b56656b6"
  },
  {
   "metadata": {
    "ExecuteTime": {
     "end_time": "2025-03-31T01:04:19.518400Z",
     "start_time": "2025-03-31T01:04:19.511510Z"
    }
   },
   "cell_type": "code",
   "source": [
    "def m(x):\n",
    "    return np.exp(-(x-40000))\n",
    "\n",
    "norm_const_m, _ = quad(m, 40000, np.inf)\n",
    "\n",
    "def norm_m_p(x):\n",
    "    return m(x) / norm_const_m\n",
    "\n",
    "\n",
    "def entropy_m_p(x):\n",
    "    f = norm_m_p(x)\n",
    "    return f * np.log(f + 1e-12)\n",
    "\n",
    "\n",
    "m_result = -quad(entropy_m_p, 40000, np.inf)[0]\n",
    "print(\"Definite integral max:\", m_result*norm_const_m)"
   ],
   "id": "ed6a45b97bd97c81",
   "outputs": [
    {
     "name": "stdout",
     "output_type": "stream",
     "text": [
      "Definite integral max: 0.999999999971735\n"
     ]
    }
   ],
   "execution_count": 187
  },
  {
   "metadata": {
    "ExecuteTime": {
     "end_time": "2025-03-31T01:03:27.494733Z",
     "start_time": "2025-03-31T01:03:27.482525Z"
    }
   },
   "cell_type": "code",
   "source": [
    "def e(x):\n",
    "    return (1/150000) * x\n",
    "\n",
    "norm_const_e, _ = quad(e, 30000, 180000)\n",
    "\n",
    "def norm_e_p(x):\n",
    "    return e(x) / norm_const_e\n",
    "\n",
    "\n",
    "def entropy_e_p(x):\n",
    "    f = norm_e_p(x)\n",
    "    return f * np.log(f)\n",
    "\n",
    "\n",
    "e_result = -quad(entropy_e_p, 30000, 180000)[0]\n",
    "print(\"Definite integral ella:\", e_result*norm_const_e)"
   ],
   "id": "e0e3865b2b7c3f99",
   "outputs": [
    {
     "name": "stdout",
     "output_type": "stream",
     "text": [
      "Definite integral ella: 1241961.0991886149\n"
     ]
    }
   ],
   "execution_count": 184
  },
  {
   "metadata": {
    "ExecuteTime": {
     "end_time": "2025-03-31T01:04:03.740947Z",
     "start_time": "2025-03-31T01:04:03.734097Z"
    }
   },
   "cell_type": "code",
   "source": [
    "import numpy as np\n",
    "from scipy.integrate import quad\n",
    "\n",
    "mu = 30000\n",
    "sig = 60000\n",
    "\n",
    "def a(x):\n",
    "    return (1 / (sig * np.sqrt(2 * np.pi))) * np.exp(-(x - mu)**2 / (2 * sig**2))\n",
    "\n",
    "lower_range = mu - 6 * sig\n",
    "upper_range = mu + 6 * sig\n",
    "\n",
    "norm_const_a, _ = quad(a, lower_range, upper_range)\n",
    "\n",
    "def norm_a_p(x):\n",
    "    return a(x) / norm_const_a\n",
    "\n",
    "def entropy_a_p(x):\n",
    "    f = norm_a_p(x)\n",
    "    f = np.clip(f, 1e-300, 1)\n",
    "    return f * np.log(f)\n",
    "\n",
    "a_result = -quad(entropy_a_p, lower_range, upper_range, epsabs=1e-10, epsrel=1e-10)[0]\n",
    "print(\"Definite Integral Anushka:\", a_result*norm_const_a)"
   ],
   "id": "bf8a7f08b171a03a",
   "outputs": [
    {
     "name": "stdout",
     "output_type": "stream",
     "text": [
      "Definite Integral Anushka: 12.421038311471557\n"
     ]
    }
   ],
   "execution_count": 186
  },
  {
   "metadata": {
    "ExecuteTime": {
     "end_time": "2025-03-31T02:14:19.017791Z",
     "start_time": "2025-03-31T02:14:19.005736Z"
    }
   },
   "cell_type": "code",
   "source": [
    "def monte(lower, upper, samples, f):\n",
    "    s = np.random.uniform(lower, upper, samples)\n",
    "    return -((upper-lower)/samples) * np.sum(f(s)*np.log(f(s)))"
   ],
   "id": "b5d886a774fc1f3f",
   "outputs": [],
   "execution_count": 4
  },
  {
   "metadata": {
    "ExecuteTime": {
     "end_time": "2025-03-31T01:04:35.886818Z",
     "start_time": "2025-03-31T01:04:33.070089Z"
    }
   },
   "cell_type": "code",
   "source": [
    "int = monte(40000, 1000000, 100000000, m)\n",
    "print(\"Entropy of Max's distrubution: \", int)"
   ],
   "id": "bee6f4ec3124def3",
   "outputs": [
    {
     "name": "stdout",
     "output_type": "stream",
     "text": [
      "Entropy of Max's distrubution:  0.9978423976334351\n"
     ]
    }
   ],
   "execution_count": 190
  },
  {
   "metadata": {
    "ExecuteTime": {
     "end_time": "2025-03-31T01:04:38.898270Z",
     "start_time": "2025-03-31T01:04:37.876462Z"
    }
   },
   "cell_type": "code",
   "source": [
    "int = monte(30000, 180000, 100000000, e)\n",
    "print(\"Entropy of ella's distrubution: \", int)"
   ],
   "id": "f97185135d34be2b",
   "outputs": [
    {
     "name": "stdout",
     "output_type": "stream",
     "text": [
      "Entropy of ella's distrubution:  104999.19099768814\n"
     ]
    }
   ],
   "execution_count": 191
  },
  {
   "metadata": {
    "ExecuteTime": {
     "end_time": "2025-03-31T01:04:52.143313Z",
     "start_time": "2025-03-31T01:04:47.997017Z"
    }
   },
   "cell_type": "code",
   "source": [
    "int = monte(-99999999, 99999999, 100000000, a)\n",
    "print(\"Entropy of anushka's distrubution: \", int)"
   ],
   "id": "330eae6c4803e236",
   "outputs": [
    {
     "name": "stdout",
     "output_type": "stream",
     "text": [
      "Entropy of anushka's distrubution:  1.0001638474411034\n"
     ]
    }
   ],
   "execution_count": 193
  },
  {
   "metadata": {},
   "cell_type": "markdown",
   "source": "The student that suffers from the most uncertainty is ella.",
   "id": "60ca5fe3fec19594"
  },
  {
   "metadata": {
    "ExecuteTime": {
     "end_time": "2025-03-31T02:14:21.674889Z",
     "start_time": "2025-03-31T02:14:21.531871Z"
    }
   },
   "cell_type": "code",
   "source": [
    "# Question 4\n",
    "X = np.genfromtxt(\"hours_slept.csv\", delimiter=',')\n",
    "X = X.reshape([-1,1])\n",
    "y = np.genfromtxt(\"how_much_is_remembered.csv\", delimiter=',')\n",
    "y = y.reshape([-1,1])\n",
    "\n",
    "\n",
    "print(X.shape)\n",
    "print(y.shape)"
   ],
   "id": "69bd34f33b054e8e",
   "outputs": [
    {
     "name": "stdout",
     "output_type": "stream",
     "text": [
      "(100000, 1)\n",
      "(100000, 1)\n"
     ]
    }
   ],
   "execution_count": 5
  },
  {
   "metadata": {
    "ExecuteTime": {
     "end_time": "2025-03-31T02:14:27.563685Z",
     "start_time": "2025-03-31T02:14:23.278494Z"
    }
   },
   "cell_type": "code",
   "source": [
    "p_x = gaussian_kde(X.T)\n",
    "x_vals = np.linspace(-2, 8, 10000)\n",
    "y_vals = p_x(x_vals)\n",
    "\n",
    "plt.figure()\n",
    "plt.title(\"X\")\n",
    "plt.plot(x_vals, y_vals)\n",
    "plt.hist(X, bins=50, density=True)\n",
    "plt.show"
   ],
   "id": "556a0d117cce145a",
   "outputs": [
    {
     "data": {
      "text/plain": [
       "<function matplotlib.pyplot.show(close=None, block=None)>"
      ]
     },
     "execution_count": 6,
     "metadata": {},
     "output_type": "execute_result"
    },
    {
     "data": {
      "text/plain": [
       "<Figure size 640x480 with 1 Axes>"
      ],
      "image/png": "[encoded data removed]"
     },
     "metadata": {},
     "output_type": "display_data"
    }
   ],
   "execution_count": 6
  },
  {
   "metadata": {
    "ExecuteTime": {
     "end_time": "2025-03-31T02:19:10.821355Z",
     "start_time": "2025-03-31T02:19:10.812569Z"
    }
   },
   "cell_type": "code",
   "source": [
    "def KL_monte(lower, upper, samples, p, q):\n",
    "    s = np.random.uniform(lower, upper, samples)\n",
    "    return -((upper-lower)/samples) * np.sum(p(s)*np.log(p(s)/q(s)))"
   ],
   "id": "f92c3eccf17b600",
   "outputs": [],
   "execution_count": 11
  },
  {
   "metadata": {
    "ExecuteTime": {
     "end_time": "2025-03-31T03:18:26.984991Z",
     "start_time": "2025-03-31T03:18:20.804177Z"
    }
   },
   "cell_type": "code",
   "source": [
    "print(\"Starting\")\n",
    "p = gaussian_kde(X.T)\n",
    "X_r = X.ravel()\n",
    "\n",
    "\n",
    "def find_distribution(k):\n",
    "    sample = np.random.choice(X_r, size=k, replace=False)\n",
    "    q = gaussian_kde(sample.T)\n",
    "    return q\n",
    "\n",
    "\n",
    "def integrand(x):\n",
    "        return p(x) * np.log(p(x) / (q(x) + 1e-12))\n",
    "\n",
    "KL_sample_lst = []\n",
    "KL_quad_lst = []\n",
    "iter = []\n",
    "for i in range(1, ((100*50)+1)):\n",
    "    if i % 50 == 0:\n",
    "        q = find_distribution(i)\n",
    "        KL = -KL_monte(-2, 8, 1000, p, q)\n",
    "        KL_sample_lst.append(KL)\n",
    "        iter.append(i)\n",
    "        KL_quad_lst.append(quad(integrand, -2, 8)[0])\n",
    "    else:\n",
    "        pass\n",
    "\n",
    "plt.plot(iter, KL_sample_lst)"
   ],
   "id": "ca059df031977ffc",
   "outputs": [
    {
     "name": "stdout",
     "output_type": "stream",
     "text": [
      "Starting\n"
     ]
    },
    {
     "ename": "KeyboardInterrupt",
     "evalue": "",
     "output_type": "error",
     "traceback": [
      "\u001B[0;31m---------------------------------------------------------------------------\u001B[0m",
      "\u001B[0;31mKeyboardInterrupt\u001B[0m                         Traceback (most recent call last)",
      "Cell \u001B[0;32mIn[130], line 24\u001B[0m\n\u001B[1;32m     22\u001B[0m     KL_sample_lst\u001B[38;5;241m.\u001B[39mappend(KL)\n\u001B[1;32m     23\u001B[0m     \u001B[38;5;28miter\u001B[39m\u001B[38;5;241m.\u001B[39mappend(i)\n\u001B[0;32m---> 24\u001B[0m     KL_quad_lst\u001B[38;5;241m.\u001B[39mappend(quad(integrand, \u001B[38;5;241m-\u001B[39m\u001B[38;5;241m2\u001B[39m, \u001B[38;5;241m8\u001B[39m)[\u001B[38;5;241m0\u001B[39m])\n\u001B[1;32m     25\u001B[0m \u001B[38;5;28;01melse\u001B[39;00m:\n\u001B[1;32m     26\u001B[0m     \u001B[38;5;28;01mpass\u001B[39;00m\n",
      "File \u001B[0;32m/opt/anaconda3/lib/python3.11/site-packages/scipy/integrate/_quadpack_py.py:464\u001B[0m, in \u001B[0;36mquad\u001B[0;34m(func, a, b, args, full_output, epsabs, epsrel, limit, points, weight, wvar, wopts, maxp1, limlst, complex_func)\u001B[0m\n\u001B[1;32m    461\u001B[0m     \u001B[38;5;28;01mreturn\u001B[39;00m retval\n\u001B[1;32m    463\u001B[0m \u001B[38;5;28;01mif\u001B[39;00m weight \u001B[38;5;129;01mis\u001B[39;00m \u001B[38;5;28;01mNone\u001B[39;00m:\n\u001B[0;32m--> 464\u001B[0m     retval \u001B[38;5;241m=\u001B[39m _quad(func, a, b, args, full_output, epsabs, epsrel, limit,\n\u001B[1;32m    465\u001B[0m                    points)\n\u001B[1;32m    466\u001B[0m \u001B[38;5;28;01melse\u001B[39;00m:\n\u001B[1;32m    467\u001B[0m     \u001B[38;5;28;01mif\u001B[39;00m points \u001B[38;5;129;01mis\u001B[39;00m \u001B[38;5;129;01mnot\u001B[39;00m \u001B[38;5;28;01mNone\u001B[39;00m:\n",
      "File \u001B[0;32m/opt/anaconda3/lib/python3.11/site-packages/scipy/integrate/_quadpack_py.py:611\u001B[0m, in \u001B[0;36m_quad\u001B[0;34m(func, a, b, args, full_output, epsabs, epsrel, limit, points)\u001B[0m\n\u001B[1;32m    609\u001B[0m \u001B[38;5;28;01mif\u001B[39;00m points \u001B[38;5;129;01mis\u001B[39;00m \u001B[38;5;28;01mNone\u001B[39;00m:\n\u001B[1;32m    610\u001B[0m     \u001B[38;5;28;01mif\u001B[39;00m infbounds \u001B[38;5;241m==\u001B[39m \u001B[38;5;241m0\u001B[39m:\n\u001B[0;32m--> 611\u001B[0m         \u001B[38;5;28;01mreturn\u001B[39;00m _quadpack\u001B[38;5;241m.\u001B[39m_qagse(func,a,b,args,full_output,epsabs,epsrel,limit)\n\u001B[1;32m    612\u001B[0m     \u001B[38;5;28;01melse\u001B[39;00m:\n\u001B[1;32m    613\u001B[0m         \u001B[38;5;28;01mreturn\u001B[39;00m _quadpack\u001B[38;5;241m.\u001B[39m_qagie(func, bound, infbounds, args, full_output, \n\u001B[1;32m    614\u001B[0m                                 epsabs, epsrel, limit)\n",
      "Cell \u001B[0;32mIn[130], line 13\u001B[0m, in \u001B[0;36mintegrand\u001B[0;34m(x)\u001B[0m\n\u001B[1;32m     12\u001B[0m \u001B[38;5;28;01mdef\u001B[39;00m \u001B[38;5;21mintegrand\u001B[39m(x):\n\u001B[0;32m---> 13\u001B[0m         \u001B[38;5;28;01mreturn\u001B[39;00m p(x) \u001B[38;5;241m*\u001B[39m np\u001B[38;5;241m.\u001B[39mlog(p(x) \u001B[38;5;241m/\u001B[39m (q(x) \u001B[38;5;241m+\u001B[39m \u001B[38;5;241m1e-12\u001B[39m))\n",
      "File \u001B[0;32m/opt/anaconda3/lib/python3.11/site-packages/scipy/stats/_kde.py:271\u001B[0m, in \u001B[0;36mgaussian_kde.evaluate\u001B[0;34m(self, points)\u001B[0m\n\u001B[1;32m    268\u001B[0m         \u001B[38;5;28;01mraise\u001B[39;00m \u001B[38;5;167;01mValueError\u001B[39;00m(msg)\n\u001B[1;32m    270\u001B[0m output_dtype, spec \u001B[38;5;241m=\u001B[39m _get_output_dtype(\u001B[38;5;28mself\u001B[39m\u001B[38;5;241m.\u001B[39mcovariance, points)\n\u001B[0;32m--> 271\u001B[0m result \u001B[38;5;241m=\u001B[39m gaussian_kernel_estimate[spec](\n\u001B[1;32m    272\u001B[0m     \u001B[38;5;28mself\u001B[39m\u001B[38;5;241m.\u001B[39mdataset\u001B[38;5;241m.\u001B[39mT, \u001B[38;5;28mself\u001B[39m\u001B[38;5;241m.\u001B[39mweights[:, \u001B[38;5;28;01mNone\u001B[39;00m],\n\u001B[1;32m    273\u001B[0m     points\u001B[38;5;241m.\u001B[39mT, \u001B[38;5;28mself\u001B[39m\u001B[38;5;241m.\u001B[39mcho_cov, output_dtype)\n\u001B[1;32m    275\u001B[0m \u001B[38;5;28;01mreturn\u001B[39;00m result[:, \u001B[38;5;241m0\u001B[39m]\n",
      "File \u001B[0;32m_stats.pyx:780\u001B[0m, in \u001B[0;36mscipy.stats._stats.gaussian_kernel_estimate\u001B[0;34m()\u001B[0m\n",
      "File \u001B[0;32m/opt/anaconda3/lib/python3.11/site-packages/scipy/linalg/_basic.py:344\u001B[0m, in \u001B[0;36msolve_triangular\u001B[0;34m(a, b, trans, lower, unit_diagonal, overwrite_b, check_finite)\u001B[0m\n\u001B[1;32m    342\u001B[0m trtrs, \u001B[38;5;241m=\u001B[39m get_lapack_funcs((\u001B[38;5;124m'\u001B[39m\u001B[38;5;124mtrtrs\u001B[39m\u001B[38;5;124m'\u001B[39m,), (a1, b1))\n\u001B[1;32m    343\u001B[0m \u001B[38;5;28;01mif\u001B[39;00m a1\u001B[38;5;241m.\u001B[39mflags\u001B[38;5;241m.\u001B[39mf_contiguous \u001B[38;5;129;01mor\u001B[39;00m trans \u001B[38;5;241m==\u001B[39m \u001B[38;5;241m2\u001B[39m:\n\u001B[0;32m--> 344\u001B[0m     x, info \u001B[38;5;241m=\u001B[39m trtrs(a1, b1, overwrite_b\u001B[38;5;241m=\u001B[39moverwrite_b, lower\u001B[38;5;241m=\u001B[39mlower,\n\u001B[1;32m    345\u001B[0m                     trans\u001B[38;5;241m=\u001B[39mtrans, unitdiag\u001B[38;5;241m=\u001B[39munit_diagonal)\n\u001B[1;32m    346\u001B[0m \u001B[38;5;28;01melse\u001B[39;00m:\n\u001B[1;32m    347\u001B[0m     \u001B[38;5;66;03m# transposed system is solved since trtrs expects Fortran ordering\u001B[39;00m\n\u001B[1;32m    348\u001B[0m     x, info \u001B[38;5;241m=\u001B[39m trtrs(a1\u001B[38;5;241m.\u001B[39mT, b1, overwrite_b\u001B[38;5;241m=\u001B[39moverwrite_b, lower\u001B[38;5;241m=\u001B[39m\u001B[38;5;129;01mnot\u001B[39;00m lower,\n\u001B[1;32m    349\u001B[0m                     trans\u001B[38;5;241m=\u001B[39m\u001B[38;5;129;01mnot\u001B[39;00m trans, unitdiag\u001B[38;5;241m=\u001B[39munit_diagonal)\n",
      "\u001B[0;31mKeyboardInterrupt\u001B[0m: "
     ]
    }
   ],
   "execution_count": 130
  },
  {
   "metadata": {},
   "cell_type": "markdown",
   "source": "Based on this, the KL divergence flattens out after about 3000 iterations, which means 3000 samples will accurately represent the 100,000 point full data set. That is 3% of the data for theoretically the same predictive power.",
   "id": "258f04fe864fc8a"
  },
  {
   "metadata": {
    "ExecuteTime": {
     "end_time": "2025-03-31T02:48:45.413341Z",
     "start_time": "2025-03-31T02:48:45.403409Z"
    }
   },
   "cell_type": "code",
   "source": [
    "print(KL_sample_lst)\n",
    "print(KL_quad_lst)"
   ],
   "id": "9e2f01ae79060954",
   "outputs": [
    {
     "name": "stdout",
     "output_type": "stream",
     "text": [
      "[0.07931866260190339, 0.0538516088212095, 0.04515755105644978, 0.051933402102232774, 0.019722270130390917, 0.02735497704957009, 0.019011629124622963, 0.021444875186842804, 0.01942909342239175, 0.036715120109889886, 0.012134836591533327, 0.020619125971209098, 0.007372608313986431, 0.021184716606322544, 0.009791343053954535, 0.010122582835658943, 0.008677929906890787, 0.019937487720811775, 0.008069787058110503, 0.01088942049343925, 0.014864751887374914, 0.011102094376626112, 0.007903507985281501, 0.01273592695590767, 0.009630480300112505, 0.011745956958530113, 0.02169347609443649, 0.0339403729886127, 0.011895617163496932, 0.00591593218460127, 0.00556380253498065, 0.015166938500730545, 0.003485614457560439, 0.007141288439296576, 0.01063036269162236, 0.010059405538452392, 0.004323895895657359, 0.004794306139088699, 0.0073855918640524255, 0.005453930819816757, 0.0038958834507695555, 0.006738546058221125, 0.009321520345694568, 0.009828339855434293, 0.002682077419270091, 0.015330667519217297, 0.010130290445024408, 0.0032223893015309417, 0.005217622998457912, 0.004327721625663265, 0.0009507636023647054, 0.006942622194756874, 0.005182728775097116, 0.01071528378703072, 0.008972477500550162, 0.0025199194729069166, 0.005480864766668957, 0.00935406471491419, 0.002511768813792593, 0.00037923084709784476, 0.0034688867741688857, 0.004409991893145558, 0.003636869449615257, 0.00012727652409545077, 0.007678669168670605, 0.002650052172818291, 0.007621521959574579, 0.0039995638633237955, 0.0017569274473759216, 0.006631031715771379, 0.004948824997181537, 0.00883270857427538, 0.00731278606610505, 0.002231386646116298, 0.0042722000158656225, 0.0019316395358743538, 0.004385869736415159, 0.005086417962170174, 0.004139847930770282, 0.0026794525227267925, 0.004695755436757858, 0.008125257237029919, 0.0021778270826298776, 0.0026063783481528415, 0.00334358747238261, 0.0016245985427732288, -8.826701075674292e-06, 0.00322807227984115, 0.0020286207368781805, 0.00042808042865118693, 0.0027533853839461792, 0.004166510913527949, 0.004535502089014438, 0.0029610016831996227, 0.003007813647089729, 0.0018612484443837091, 0.0025606247482825688, 0.0038994106567578546, 0.002501656528709075, 0.0015786013446945249]\n",
      "[0.0777647664111701, 0.04339542493004496, 0.054449037032416284, 0.03469875198466023, 0.018564105291421003, 0.027604811142761188, 0.017972441671648534, 0.016748850559538217, 0.020209533521908202, 0.024697702511763737, 0.01611953229995153, 0.03240454544513173, 0.008605693477350464, 0.016581936051000105, 0.010001702826832685, 0.013286380065048552, 0.008209359798972655, 0.016437314325060647, 0.009910387720220841, 0.016869868690870482, 0.007355517384765056, 0.008356005987909585, 0.006472914278153837, 0.009538717194723748, 0.011720078917948823, 0.009722803991892055, 0.015945029166184507, 0.01845769218302052, 0.011819828248777045, 0.0036583319709884866, 0.010989403800722372, 0.012864037885663433, 0.003331570361874042, 0.007105549348121546, 0.00904617199659258, 0.005360797778077141, 0.003958742690479326, 0.00716614623051326, 0.004535532887274653, 0.004870410240717417, 0.0055323984498671696, 0.005905464990437405, 0.010433429690159545, 0.009281026206626344, 0.007364344833441443, 0.007963975025343005, 0.006764869987979363, 0.004433371021842254, 0.004911273176502175, 0.004154766437862316, 0.00552012964251308, 0.004253098136006327, 0.004413370604893566, 0.006874427371304647, 0.005524892463430021, 0.0043417498444747555, 0.00469215001695021, 0.007730284988072834, 0.004085475283385866, 0.004868940631374143, 0.006302156731669339, 0.004218548309430754, 0.004684952592846686, 0.0025611654254502963, 0.005654158543237859, 0.0027448563207765463, 0.0038876750794857654, 0.0029997079189714978, 0.005525684633969202, 0.005408775094796463, 0.004923963402118677, 0.006253923710374424, 0.005650300539535956, 0.0035795159379272117, 0.003450492927971011, 0.002737587640296648, 0.004178276069322064, 0.003924804584575136, 0.005551566079734258, 0.0034951462575452817, 0.004071946628182259, 0.00404613454279277, 0.0019989593866391393, 0.003027684683622421, 0.003923482625394261, 0.004077870484481825, 0.0016734315868755663, 0.004084879585894466, 0.004436289810456649, 0.0024117127025640238, 0.0037291502232868695, 0.0038507557956191933, 0.0036307439255502992, 0.003732471569589468, 0.0019774569425151764, 0.0019461383639370186, 0.0036456185780485047, 0.0023022524429947345, 0.003408611433102838, 0.0021602520303479443]\n"
     ]
    }
   ],
   "execution_count": 43
  },
  {
   "metadata": {
    "ExecuteTime": {
     "end_time": "2025-03-31T03:16:36.895419Z",
     "start_time": "2025-03-31T03:16:36.872904Z"
    }
   },
   "cell_type": "code",
   "source": [
    "def cfs(x, y):\n",
    "    # Append bias\n",
    "    fm = np.hstack((x, np.ones((x.shape[0],1))))\n",
    "    # Find closed-form solution\n",
    "    weights = (np.linalg.inv((fm.T @ fm)) @ fm.T) @ y\n",
    "    return weights\n",
    "\n",
    "\n",
    "joined_XY = np.hstack((X, y))\n",
    "idx = np.random.choice(joined_XY.shape[0], size=3, replace=False)\n",
    "sampled_rows = joined_XY[idx]\n",
    "\n",
    "N = joined_XY.shape[0]\n",
    "\n",
    "sample_size = 3500\n",
    "sample_indices = np.random.choice(np.arange(N), size=sample_size, replace=False)\n",
    "\n",
    "rest_indices = np.setdiff1d(np.arange(N), sample_indices)\n",
    "\n",
    "# Get the rows corresponding to the sample and the complement\n",
    "sampled_rows = joined_XY[sample_indices]\n",
    "not_chosen = joined_XY[rest_indices]\n",
    "\n",
    "# Now split into X and y parts\n",
    "X_sample, Y_sample = np.split(sampled_rows, [-1], axis=1)\n",
    "X_rest, Y_rest = np.split(not_chosen, [-1], axis=1)\n",
    "print(\"Sampled rows shape:\", X_sample.shape, \",\", Y_sample.shape)\n",
    "w = cfs(X_sample, Y_sample)\n",
    "X_rest = np.hstack((X_rest, np.ones((X_rest.shape[0],1))))"
   ],
   "id": "421abeddb56330f4",
   "outputs": [
    {
     "name": "stdout",
     "output_type": "stream",
     "text": [
      "Sampled rows shape: (3500, 1) , (3500, 1)\n"
     ]
    }
   ],
   "execution_count": 128
  },
  {
   "metadata": {
    "ExecuteTime": {
     "end_time": "2025-03-31T03:16:38.893168Z",
     "start_time": "2025-03-31T03:16:38.854789Z"
    }
   },
   "cell_type": "code",
   "source": [
    "print(\"W.t shape:\", w.T.shape)\n",
    "print(\"XREST SHAPE\", X_rest.shape)\n",
    "\n",
    "pred = X_rest @ w\n",
    "mse = np.mean((pred - Y_rest)**2)\n",
    "\n",
    "print(\"MSE:\", mse)"
   ],
   "id": "be4c955549471d42",
   "outputs": [
    {
     "name": "stdout",
     "output_type": "stream",
     "text": [
      "W.t shape: (1, 2)\n",
      "XREST SHAPE (96500, 2)\n",
      "MSE: 0.007488245032806281\n"
     ]
    }
   ],
   "execution_count": 129
  },
  {
   "metadata": {},
   "cell_type": "markdown",
   "source": "In the end, we can get away with using less than 1000 datapoints and end up with an MSE that is similar to that of 95000 datapoints. That is less than 1% of the data for the same predictive power. Nsub is 0.95%.",
   "id": "863a741c601f82ec"
  },
  {
   "metadata": {},
   "cell_type": "code",
   "outputs": [],
   "execution_count": null,
   "source": "",
   "id": "1cd3ed5e265d15c3"
  }
 ],
 "metadata": {
  "kernelspec": {
   "display_name": "Python 3",
   "language": "python",
   "name": "python3"
  },
  "language_info": {
   "codemirror_mode": {
    "name": "ipython",
    "version": 2
   },
   "file_extension": ".py",
   "mimetype": "text/x-python",
   "name": "python",
   "nbconvert_exporter": "python",
   "pygments_lexer": "ipython2",
   "version": "2.7.6"
  }
 },
 "nbformat": 4,
 "nbformat_minor": 5
}
