{
 "cells": [
  {
   "cell_type": "code",
   "id": "initial_id",
   "metadata": {
    "collapsed": true,
    "ExecuteTime": {
     "end_time": "2025-02-02T17:30:42.060792Z",
     "start_time": "2025-02-02T17:30:40.444149Z"
    }
   },
   "source": [
    "import numpy as np\n",
    "import matplotlib.pyplot as plt\n",
    "import sklearn.preprocessing as pre\n"
   ],
   "outputs": [],
   "execution_count": 3
  },
  {
   "metadata": {},
   "cell_type": "markdown",
   "source": [
    "*** Question 1. (10 points) In the data folder, find and load the 2 files\n",
    "stock_prediction_data.csv\n",
    "stock_price.csv\n",
    "\n",
    "This data predicts tomorrow’s stock price difference given the previous day’s data.\n",
    "1) Use Preprocessing on the data\n",
    "2) Perform regression on this dataset\n",
    "(a) Solve it with Sklearn library for linear regression.\n",
    "(b) Solve it by writing your own gradient descent algorithm in Python.\n",
    "(c) Solve it by writing your own closed-form solution in Python.\n",
    "(d) Print out the final total error for each method.\n",
    "(e) No need to include this portion in the homework, but do it for your own sanity check.\n",
    "• Print out the prediction of your function for every sample next to the true label\n",
    "• Compare them against the true labels. How good is your prediction?"
   ],
   "id": "2c2587b833b02078"
  },
  {
   "metadata": {
    "ExecuteTime": {
     "end_time": "2025-02-02T20:41:20.313716Z",
     "start_time": "2025-02-02T20:41:20.293359Z"
    }
   },
   "cell_type": "code",
   "source": [
    "# importing\n",
    "stock_price = np.genfromtxt('stock_price.csv', delimiter=',')\n",
    "stock_prediction_data = np.genfromtxt('stock_prediction_data.csv', delimiter=',')\n",
    "\n",
    "# preprocessing\n",
    "scaler = pre.StandardScaler().fit(stock_prediction_data)\n",
    "x = scaler.transform(stock_prediction_data)\n",
    "y = stock_price\n",
    "y = y.reshape(-1, 1)\n",
    "\n",
    "print(\"X shape\", x.shape)\n",
    "print(\"Y shape\", y.shape)"
   ],
   "id": "62f3181b0f0c630d",
   "outputs": [
    {
     "name": "stdout",
     "output_type": "stream",
     "text": [
      "[[ 0.03891071 -1.21425547 -0.71462266 ...  0.95265681 -1.21992632\n",
      "  -1.26277286]\n",
      " [ 0.28137056 -1.46950334  0.49864483 ... -0.34370698 -0.80916135\n",
      "  -0.84126507]\n",
      " [ 1.34608558 -0.35193161  0.96796033 ...  0.61150844 -0.55927933\n",
      "   0.45435316]\n",
      " ...\n",
      " [ 0.63276166  1.08297529  1.28431375 ...  0.09296293 -0.69962402\n",
      "  -0.67542593]\n",
      " [ 0.22514799 -0.97970338 -0.13753841 ... -0.54157303 -0.82627656\n",
      "  -1.63936589]\n",
      " [-0.1894935  -1.15561745  0.52645612 ...  0.61150844  1.37473907\n",
      "  -1.43206698]]\n",
      "X shape (300, 10)\n",
      "Y shape (300, 1)\n"
     ]
    }
   ],
   "execution_count": 78
  },
  {
   "metadata": {
    "ExecuteTime": {
     "end_time": "2025-02-02T19:52:53.879013Z",
     "start_time": "2025-02-02T19:52:53.863455Z"
    }
   },
   "cell_type": "code",
   "source": [
    "from sklearn.linear_model import LinearRegression\n",
    "from sklearn.metrics import mean_squared_error\n",
    "\n",
    "# Fit model\n",
    "model = LinearRegression()\n",
    "model.fit(x, y)\n",
    "\n",
    "# Get predictions\n",
    "y_pred = model.predict(x)\n",
    "\n",
    "# Find loss\n",
    "loss = mean_squared_error(y, y_pred)\n",
    "print(\"Loss: \", loss)\n",
    "print(\"Weights: \", model.coef_.flatten())"
   ],
   "id": "a8b288804e062ee4",
   "outputs": [
    {
     "name": "stdout",
     "output_type": "stream",
     "text": [
      "Loss:  0.04357043923686068\n",
      "Weights:  [[-0.00632907  4.0017033   0.00964999 -0.00765303  0.99228095  2.99424287\n",
      "   3.99145859  2.98052853  0.98323214  1.0098116 ]]\n"
     ]
    }
   ],
   "execution_count": 52
  },
  {
   "metadata": {
    "ExecuteTime": {
     "end_time": "2025-02-02T19:45:40.609565Z",
     "start_time": "2025-02-02T19:45:10.253321Z"
    }
   },
   "cell_type": "code",
   "source": [
    "# GD function\n",
    "def gd(x, y, step_size, iterations):\n",
    "    print(\"x\", x.shape)\n",
    "    print(\"y\", y.shape)\n",
    "    u = step_size\n",
    "    \n",
    "    # Generating feature map for linear regression\n",
    "    ones = np.ones((x.shape[0], 1))\n",
    "    fm = np.hstack((x,ones))\n",
    "    print('fm', fm.shape)\n",
    "    \n",
    "    # Initializing weights (I chose these somewhat randomly)\n",
    "    w = np.random.randn(fm.shape[1], 1)\n",
    "    print('w', w.shape)\n",
    "    \n",
    "    # Gradient Descent\n",
    "    for i in range(iterations):\n",
    "    \n",
    "        # Calculating loss\n",
    "        tloss = 0\n",
    "        for j in range(x.shape[0]):\n",
    "            loss = (((w.T @ fm[j,:]) - y[j])**2)\n",
    "            tloss += (1/x.shape[0]) * loss\n",
    "    \n",
    "        # Calculating gradient\n",
    "        tdloss = np.zeros(w.shape)\n",
    "        for j in range(x.shape[0]):\n",
    "            dloss = (((w.T @ fm[j, :]) - y[j, :]) * fm[j, :])\n",
    "            dloss = dloss.reshape(-1, 1)\n",
    "            tdloss += (2/x.shape[0]) * dloss\n",
    "    \n",
    "        # Updating weights based on gradient\n",
    "        w = w - u * (tdloss)\n",
    "    \n",
    "    # Printing Results\n",
    "    print(\"\\n\\nLoss:\\n \", tloss)\n",
    "    print(\"\\nGradient of Loss:\\n \", tdloss)\n",
    "    print(\"\\nOptimal Weights:\\n \", w)\n",
    "    \n",
    "    return w\n",
    "w = gd(x, y, 0.01, 20000)"
   ],
   "id": "7e96e3a2a90faf31",
   "outputs": [
    {
     "name": "stdout",
     "output_type": "stream",
     "text": [
      "x (300, 10)\n",
      "y (300, 1)\n",
      "fm (300, 11)\n",
      "w (11, 1)\n",
      "\n",
      "\n",
      "Loss:\n",
      "  [0.04357044]\n",
      "\n",
      "Gradient of Loss:\n",
      "  [[ 3.77979982e-17]\n",
      " [-4.27653247e-14]\n",
      " [-8.63295980e-17]\n",
      " [-3.58328818e-17]\n",
      " [-5.43011816e-15]\n",
      " [ 2.19056544e-14]\n",
      " [ 2.20913782e-14]\n",
      " [-2.21637216e-14]\n",
      " [-5.44020124e-15]\n",
      " [-1.07154953e-14]\n",
      " [ 5.13239624e-15]]\n",
      "\n",
      "Optimal Weights:\n",
      "  [[-0.00632907]\n",
      " [ 4.0017033 ]\n",
      " [ 0.00964999]\n",
      " [-0.00765303]\n",
      " [ 0.99228095]\n",
      " [ 2.99424287]\n",
      " [ 3.99145859]\n",
      " [ 2.98052853]\n",
      " [ 0.98323214]\n",
      " [ 1.0098116 ]\n",
      " [ 0.86593333]]\n"
     ]
    }
   ],
   "execution_count": 41
  },
  {
   "metadata": {
    "ExecuteTime": {
     "end_time": "2025-02-02T20:42:09.081806Z",
     "start_time": "2025-02-02T20:42:09.059594Z"
    }
   },
   "cell_type": "code",
   "source": [
    "# Closed Form Solution\n",
    "def cfs(x,y):\n",
    "    # Append bias\n",
    "    fm = np.hstack((x, np.ones((x.shape[0],1))))\n",
    "\n",
    "    # Find closed-form solution\n",
    "    weights = (np.linalg.inv((fm.T @ fm)) @ fm.T) @ y\n",
    "    return weights\n",
    "weights = cfs(x, y)\n",
    "print(weights)"
   ],
   "id": "97e4211f6575948",
   "outputs": [
    {
     "name": "stdout",
     "output_type": "stream",
     "text": [
      "[[-0.00632907]\n",
      " [ 4.0017033 ]\n",
      " [ 0.00964999]\n",
      " [-0.00765303]\n",
      " [ 0.99228095]\n",
      " [ 2.99424287]\n",
      " [ 3.99145859]\n",
      " [ 2.98052853]\n",
      " [ 0.98323214]\n",
      " [ 1.0098116 ]\n",
      " [ 0.86593333]]\n"
     ]
    }
   ],
   "execution_count": 82
  },
  {
   "metadata": {},
   "cell_type": "markdown",
   "source": "Question 2. (10 points) Repeat the previous question but this time use Polynomial regression (2nd order).",
   "id": "f2f4b7100f094d11"
  },
  {
   "metadata": {
    "ExecuteTime": {
     "end_time": "2025-02-02T19:52:35.264480Z",
     "start_time": "2025-02-02T19:52:35.240469Z"
    }
   },
   "cell_type": "code",
   "source": [
    "from sklearn.linear_model import LinearRegression\n",
    "from sklearn.metrics import mean_squared_error\n",
    "from sklearn.preprocessing import PolynomialFeatures\n",
    "\n",
    "# Fit model\n",
    "map = PolynomialFeatures(2)\n",
    "feature_map = map.fit_transform(x, y)\n",
    "\n",
    "# Get predictions\n",
    "model = LinearRegression()\n",
    "model.fit(feature_map, y)\n",
    "y_pred = model.predict(feature_map)\n",
    "\n",
    "# Find loss\n",
    "loss = mean_squared_error(y, y_pred)\n",
    "print(\"Loss: \", loss)\n",
    "print(\"Weights: \", model.coef_.flatten())"
   ],
   "id": "cbef867fc4039e33",
   "outputs": [
    {
     "name": "stdout",
     "output_type": "stream",
     "text": [
      "Loss:  0.035501081015939386\n",
      "Weights:  [-1.69147367e-17 -3.56450078e-03  3.99787135e+00  6.58679167e-03\n",
      " -9.72501931e-03  9.91626548e-01  2.99946522e+00  3.99574777e+00\n",
      "  2.98618773e+00  9.84217991e-01  1.01729959e+00 -1.79242456e-02\n",
      "  1.04764317e-02  1.86408777e-02  1.30226888e-02  1.09571145e-02\n",
      " -6.97951563e-03 -3.24639851e-04  2.13249229e-03  8.88376418e-03\n",
      " -1.01265135e-02  1.30415313e-02  2.13989537e-03  1.90056572e-02\n",
      "  3.08312460e-03  6.34634242e-04 -1.15772811e-03  1.46451981e-02\n",
      "  9.23384611e-03 -2.34482832e-02 -4.27911693e-05 -7.38294809e-03\n",
      " -1.19976290e-02 -8.97001508e-03  4.93166627e-03  2.31228484e-02\n",
      "  6.01111666e-03 -1.98391508e-02  1.95344442e-02 -1.54094194e-02\n",
      "  4.30293355e-03  5.30749842e-03 -1.56970428e-03  8.41643536e-03\n",
      " -1.57925001e-02 -1.02085505e-02  5.01169581e-02 -2.72193593e-02\n",
      " -7.22853665e-03 -1.39120096e-03 -1.19712209e-03  1.73444902e-02\n",
      " -1.69091402e-02 -4.09935055e-03  1.13227931e-02 -6.78221379e-03\n",
      " -6.68214430e-03 -8.09360777e-03  8.37197130e-03  9.60729321e-03\n",
      "  1.91871661e-02 -1.35215261e-02 -1.16166745e-02  1.81791232e-02\n",
      "  1.25761073e-03 -2.80632429e-02]\n"
     ]
    }
   ],
   "execution_count": 51
  },
  {
   "metadata": {},
   "cell_type": "markdown",
   "source": "",
   "id": "983990039c3bdec2"
  },
  {
   "metadata": {
    "ExecuteTime": {
     "end_time": "2025-02-02T20:23:11.656299Z",
     "start_time": "2025-02-02T20:22:40.933301Z"
    }
   },
   "cell_type": "code",
   "source": [
    "from sklearn.preprocessing import PolynomialFeatures\n",
    "\n",
    "# We already defined the GD function,x and y are already defined so we really just have to make the feature map\n",
    "# GD function\n",
    "def poly_gd(x, y, step_size, iterations, degree):\n",
    "    print(\"x\", x.shape)\n",
    "    print(\"y\", y.shape)\n",
    "    u = step_size\n",
    "    \n",
    "    poly = PolynomialFeatures(degree=degree, include_bias=True)\n",
    "    fm = poly.fit_transform(x)\n",
    "    x = fm\n",
    "    \n",
    "    # Initializing weights (I chose these somewhat randomly)\n",
    "    w = np.random.randn(fm.shape[1], 1)\n",
    "    print('w', w.shape)\n",
    "    \n",
    "    # Gradient Descent\n",
    "    for i in range(iterations):\n",
    "    \n",
    "        # Calculating loss\n",
    "        tloss = 0\n",
    "        for j in range(x.shape[0]):\n",
    "            loss = (((w.T @ fm[j,:]) - y[j])**2)\n",
    "            tloss += (1/x.shape[0]) * loss\n",
    "    \n",
    "        # Calculating gradient\n",
    "        tdloss = np.zeros(w.shape)\n",
    "        for j in range(x.shape[0]):\n",
    "            dloss = (((w.T @ fm[j, :]) - y[j, :]) * fm[j, :])\n",
    "            dloss = dloss.reshape(-1, 1)\n",
    "            tdloss += (2/x.shape[0]) * dloss\n",
    "    \n",
    "        # Updating weights based on gradient\n",
    "        w = w - u * (tdloss)\n",
    "    \n",
    "    # Printing Results\n",
    "    print(\"\\n\\nLoss:\\n \", tloss)\n",
    "    print(\"\\nOptimal Weights:\\n \", w)\n",
    "    \n",
    "    return w\n",
    "w = poly_gd(x, y, 0.01, 20000, 2)"
   ],
   "id": "110ce9df67ed3687",
   "outputs": [
    {
     "name": "stdout",
     "output_type": "stream",
     "text": [
      "x (300, 10)\n",
      "y (300, 1)\n",
      "w (66, 1)\n",
      "\n",
      "\n",
      "Loss:\n",
      "  [0.03550108]\n",
      "\n",
      "Optimal Weights:\n",
      "  [[ 8.43017266e-01]\n",
      " [-3.56450077e-03]\n",
      " [ 3.99787135e+00]\n",
      " [ 6.58679166e-03]\n",
      " [-9.72501930e-03]\n",
      " [ 9.91626548e-01]\n",
      " [ 2.99946522e+00]\n",
      " [ 3.99574777e+00]\n",
      " [ 2.98618773e+00]\n",
      " [ 9.84217991e-01]\n",
      " [ 1.01729959e+00]\n",
      " [-1.79242455e-02]\n",
      " [ 1.04764317e-02]\n",
      " [ 1.86408777e-02]\n",
      " [ 1.30226888e-02]\n",
      " [ 1.09571144e-02]\n",
      " [-6.97951564e-03]\n",
      " [-3.24639845e-04]\n",
      " [ 2.13249230e-03]\n",
      " [ 8.88376418e-03]\n",
      " [-1.01265135e-02]\n",
      " [ 1.30415314e-02]\n",
      " [ 2.13989537e-03]\n",
      " [ 1.90056572e-02]\n",
      " [ 3.08312460e-03]\n",
      " [ 6.34634245e-04]\n",
      " [-1.15772809e-03]\n",
      " [ 1.46451981e-02]\n",
      " [ 9.23384612e-03]\n",
      " [-2.34482832e-02]\n",
      " [-4.27910806e-05]\n",
      " [-7.38294809e-03]\n",
      " [-1.19976290e-02]\n",
      " [-8.97001508e-03]\n",
      " [ 4.93166628e-03]\n",
      " [ 2.31228484e-02]\n",
      " [ 6.01111665e-03]\n",
      " [-1.98391508e-02]\n",
      " [ 1.95344442e-02]\n",
      " [-1.54094194e-02]\n",
      " [ 4.30293353e-03]\n",
      " [ 5.30749842e-03]\n",
      " [-1.56970428e-03]\n",
      " [ 8.41643537e-03]\n",
      " [-1.57925002e-02]\n",
      " [-1.02085504e-02]\n",
      " [ 5.01169581e-02]\n",
      " [-2.72193593e-02]\n",
      " [-7.22853663e-03]\n",
      " [-1.39120096e-03]\n",
      " [-1.19712210e-03]\n",
      " [ 1.73444902e-02]\n",
      " [-1.69091402e-02]\n",
      " [-4.09935055e-03]\n",
      " [ 1.13227931e-02]\n",
      " [-6.78221378e-03]\n",
      " [-6.68214423e-03]\n",
      " [-8.09360774e-03]\n",
      " [ 8.37197131e-03]\n",
      " [ 9.60729321e-03]\n",
      " [ 1.91871662e-02]\n",
      " [-1.35215261e-02]\n",
      " [-1.16166745e-02]\n",
      " [ 1.81791234e-02]\n",
      " [ 1.25761076e-03]\n",
      " [-2.80632428e-02]]\n"
     ]
    }
   ],
   "execution_count": 64
  },
  {
   "metadata": {
    "ExecuteTime": {
     "end_time": "2025-02-02T20:30:23.036046Z",
     "start_time": "2025-02-02T20:30:23.008805Z"
    }
   },
   "cell_type": "code",
   "source": [
    "# Closed Form Solution\n",
    "def poly_cfs(x,y):\n",
    "    # Append bias\n",
    "    poly = PolynomialFeatures(degree=2, include_bias=True)\n",
    "    fm = poly.fit_transform(x)\n",
    "\n",
    "    # Find closed-form solution\n",
    "    weights = (np.linalg.inv((fm.T @ fm)) @ fm.T) @ y\n",
    "    return weights\n",
    "\n",
    "weights = poly_cfs(x, y)\n",
    "print(weights)"
   ],
   "id": "b16c40da809c358c",
   "outputs": [
    {
     "name": "stdout",
     "output_type": "stream",
     "text": [
      "[[ 8.43017267e-01]\n",
      " [-3.56450078e-03]\n",
      " [ 3.99787135e+00]\n",
      " [ 6.58679167e-03]\n",
      " [-9.72501931e-03]\n",
      " [ 9.91626548e-01]\n",
      " [ 2.99946522e+00]\n",
      " [ 3.99574777e+00]\n",
      " [ 2.98618773e+00]\n",
      " [ 9.84217991e-01]\n",
      " [ 1.01729959e+00]\n",
      " [-1.79242456e-02]\n",
      " [ 1.04764317e-02]\n",
      " [ 1.86408777e-02]\n",
      " [ 1.30226888e-02]\n",
      " [ 1.09571145e-02]\n",
      " [-6.97951563e-03]\n",
      " [-3.24639851e-04]\n",
      " [ 2.13249229e-03]\n",
      " [ 8.88376418e-03]\n",
      " [-1.01265135e-02]\n",
      " [ 1.30415313e-02]\n",
      " [ 2.13989537e-03]\n",
      " [ 1.90056572e-02]\n",
      " [ 3.08312460e-03]\n",
      " [ 6.34634242e-04]\n",
      " [-1.15772811e-03]\n",
      " [ 1.46451981e-02]\n",
      " [ 9.23384611e-03]\n",
      " [-2.34482832e-02]\n",
      " [-4.27911693e-05]\n",
      " [-7.38294809e-03]\n",
      " [-1.19976290e-02]\n",
      " [-8.97001508e-03]\n",
      " [ 4.93166627e-03]\n",
      " [ 2.31228484e-02]\n",
      " [ 6.01111666e-03]\n",
      " [-1.98391508e-02]\n",
      " [ 1.95344442e-02]\n",
      " [-1.54094194e-02]\n",
      " [ 4.30293355e-03]\n",
      " [ 5.30749842e-03]\n",
      " [-1.56970428e-03]\n",
      " [ 8.41643536e-03]\n",
      " [-1.57925001e-02]\n",
      " [-1.02085505e-02]\n",
      " [ 5.01169581e-02]\n",
      " [-2.72193593e-02]\n",
      " [-7.22853665e-03]\n",
      " [-1.39120096e-03]\n",
      " [-1.19712209e-03]\n",
      " [ 1.73444902e-02]\n",
      " [-1.69091402e-02]\n",
      " [-4.09935055e-03]\n",
      " [ 1.13227931e-02]\n",
      " [-6.78221379e-03]\n",
      " [-6.68214430e-03]\n",
      " [-8.09360777e-03]\n",
      " [ 8.37197130e-03]\n",
      " [ 9.60729321e-03]\n",
      " [ 1.91871661e-02]\n",
      " [-1.35215261e-02]\n",
      " [-1.16166745e-02]\n",
      " [ 1.81791232e-02]\n",
      " [ 1.25761073e-03]\n",
      " [-2.80632429e-02]]\n"
     ]
    }
   ],
   "execution_count": 70
  },
  {
   "metadata": {},
   "cell_type": "markdown",
   "source": [
    "Question 3. (10 points) I recorded this video to help you with this question.\n",
    "https://youtu.be/7FSIMC2xP2E?si=vt2nX0lak8E97zFf\n",
    "Given the data \n",
    "[[0, 1],\n",
    " [1,0],\n",
    " [2,2],\n",
    " [3.-2]]\n",
    "\n",
    "If we assume that the function to predict y from x is a linear function then the function would like.\n",
    "                                    f(x) = ax + b\n",
    "The goal is to use the data to identify the best a and b using the Closed-Form solution. Solve the question by\n",
    "hand as well as using Python."
   ],
   "id": "7c22bd565cb3d541"
  },
  {
   "metadata": {
    "ExecuteTime": {
     "end_time": "2025-02-02T20:45:23.597241Z",
     "start_time": "2025-02-02T20:45:23.590045Z"
    }
   },
   "cell_type": "code",
   "source": [
    "# Closed Form Solution\n",
    "x = np.array([[0],\n",
    " [1],\n",
    " [2],\n",
    " [3]])\n",
    "y = np.array([[1],[0],[2],[-2]])\n",
    "weights = cfs(x, y)\n",
    "print(weights)"
   ],
   "id": "de28730a21268b8a",
   "outputs": [
    {
     "name": "stdout",
     "output_type": "stream",
     "text": [
      "[[-0.7]\n",
      " [ 1.3]]\n"
     ]
    }
   ],
   "execution_count": 87
  },
  {
   "metadata": {},
   "cell_type": "markdown",
   "source": [
    "Question 6. (10 points) Go to the data folder under ”probability distributions” and find the 3 csv file\n",
    "SAT.csv\n",
    "Lunch_wait_time.csv\n",
    "Student_age.csv\n",
    "For each file\n",
    "1) Generate the histogram\n",
    "2) Calculate the average value\n",
    "3) Calculate the probability that someone scored higher than 1200 on SAT\n",
    "4) Calculate the probability you have to wait more than 5 min.\n",
    "5) Calculate the probability that someone is younger than 19"
   ],
   "id": "b98265db0500ff0f"
  },
  {
   "metadata": {
    "ExecuteTime": {
     "end_time": "2025-02-02T22:12:19.653296Z",
     "start_time": "2025-02-02T22:12:19.484740Z"
    }
   },
   "cell_type": "code",
   "source": [
    "from scipy.stats import norm\n",
    "\n",
    "x = np.genfromtxt('SAT.csv', delimiter=',')\n",
    "n, bins, patches = plt.hist(x, 20, facecolor = 'blue', alpha=0.7)\n",
    "plt.title(\"Probability Density Function of SAT SCORE\")\n",
    "plt.show()\n",
    "print(\"SAT Avg\", np.mean(x))\n",
    "print(\"SAT std\", np.std(x))\n",
    "\n",
    "y = np.genfromtxt('student_age.csv', delimiter=',')\n",
    "n, bins, patches = plt.hist(y, 20, facecolor = 'blue', alpha=0.7)\n",
    "plt.title(\"Probability Density Function of STUDENT AGE\")\n",
    "plt.show()\n",
    "print(\"AGE Avg\", np.mean(y))\n",
    "print(\"AGE std\", np.std(y))\n",
    "\n",
    "z = np.genfromtxt('lunch_wait_time.csv', delimiter=',')\n",
    "n, bins, patches = plt.hist(z, 20, facecolor = 'blue', alpha=0.7)\n",
    "plt.title(\"Probability Density Function of LUNCH WAIT\")\n",
    "plt.show()\n",
    "print(\"WAIT Avg\", np.mean(z))\n",
    "print(\"WAIT std\", np.std(z))\n",
    "\n",
    "\n",
    "print(f\"Probability of above 1200: 1-{norm.cdf(1200, 1147.82875, 157.41561842281564)} \")\n",
    "\n",
    "\n",
    "a = norm.cdf(5, 1.0405, 1.0140659495318833)\n",
    "print(\"Probability of more than 5 minute wait: \", 1-a)\n",
    "\n",
    "\n",
    "b = norm.cdf(19, 19.931625, 1.7154262908603797)\n",
    "print(\"Probability that someone is less than 19yo: \", b)\n"
   ],
   "id": "8e13e16f6e34b0e0",
   "outputs": [
    {
     "data": {
      "text/plain": [
       "<Figure size 640x480 with 1 Axes>"
      ],
      "image/png": "[encoded data removed]"
     },
     "metadata": {},
     "output_type": "display_data"
    },
    {
     "name": "stdout",
     "output_type": "stream",
     "text": [
      "SAT Avg 1147.82875\n",
      "SAT std 157.41561842281564\n"
     ]
    },
    {
     "data": {
      "text/plain": [
       "<Figure size 640x480 with 1 Axes>"
      ],
      "image/png": "[encoded data removed]"
     },
     "metadata": {},
     "output_type": "display_data"
    },
    {
     "name": "stdout",
     "output_type": "stream",
     "text": [
      "AGE Avg 19.931625\n",
      "AGE std 1.7154262908603797\n"
     ]
    },
    {
     "data": {
      "text/plain": [
       "<Figure size 640x480 with 1 Axes>"
      ],
      "image/png": "[encoded data removed]"
     },
     "metadata": {},
     "output_type": "display_data"
    },
    {
     "name": "stdout",
     "output_type": "stream",
     "text": [
      "WAIT Avg 1.0405\n",
      "WAIT std 1.0140659495318833\n",
      "Probability of above 1200: 1-0.6298377271989073 \n",
      "Probability of more than 5 minute wait:  4.719489547322375e-05\n",
      "This amount of women are shorter than 5'7:  0.2935350955411665\n"
     ]
    }
   ],
   "execution_count": 92
  },
  {
   "metadata": {},
   "cell_type": "markdown",
   "source": [
    "Question 7. (20pts) Given the following distribution p(x)\n",
    "\n",
    "Given that the total probability is always 1, it implies that the area between 0 and b must add up to 1, implying\n",
    "that the integral between 0 and b must therefore also add up to 1 where\n",
    "\n",
    "1) Use Numpy to find the value of b?\n",
    "• Hints on how to solve this problem.\n",
    "• If you don’t remember how to take integrals, make sure you watch my video on calculus refreshers.\n",
    "\n",
    "https://youtu.be/N62Hdt5TV9g?si=Phynx6U_UeJRPEcS\n",
    "\n",
    "• Note that if you have an expression x\n",
    "\n",
    "2−x−2 = 0 (which we know the solution as (x+1)(x−2) = 0), we\n",
    "can solve a more complex problem with with numpy.root. Try to understand the following command."
   ],
   "id": "70af0507f91173b2"
  },
  {
   "metadata": {
    "ExecuteTime": {
     "end_time": "2025-02-02T22:27:43.554560Z",
     "start_time": "2025-02-02T22:27:43.531094Z"
    }
   },
   "cell_type": "code",
   "source": [
    "# Coefficient list\n",
    "coefficients = [1, -1.5, 3, -3]\n",
    "# Solve for b\n",
    "roots = np.roots(coefficients)\n",
    "print(roots)"
   ],
   "id": "516430263d0791d0",
   "outputs": [
    {
     "name": "stdout",
     "output_type": "stream",
     "text": [
      "[0.17317357+1.60326122j 0.17317357-1.60326122j 1.15365286+0.j        ]\n"
     ]
    }
   ],
   "execution_count": 93
  }
 ],
 "metadata": {
  "kernelspec": {
   "display_name": "Python 3",
   "language": "python",
   "name": "python3"
  },
  "language_info": {
   "codemirror_mode": {
    "name": "ipython",
    "version": 2
   },
   "file_extension": ".py",
   "mimetype": "text/x-python",
   "name": "python",
   "nbconvert_exporter": "python",
   "pygments_lexer": "ipython2",
   "version": "2.7.6"
  }
 },
 "nbformat": 4,
 "nbformat_minor": 5
}
